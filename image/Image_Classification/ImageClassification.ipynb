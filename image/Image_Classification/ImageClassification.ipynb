{
 "cells": [
  {
   "cell_type": "markdown",
   "id": "48fde986",
   "metadata": {},
   "source": [
    "## Image Classification in PyTorch"
   ]
  },
  {
   "cell_type": "markdown",
   "id": "25277c0e",
   "metadata": {},
   "source": [
    "We would use this notebook to understand the basics of Image Classification"
   ]
  },
  {
   "cell_type": "code",
   "execution_count": 1,
   "id": "3d7e4a82",
   "metadata": {},
   "outputs": [],
   "source": [
    "%matplotlib inline"
   ]
  },
  {
   "cell_type": "code",
   "execution_count": 2,
   "id": "69b307ec",
   "metadata": {},
   "outputs": [],
   "source": [
    "import torch                      # import PyTorch library\n",
    "import torch.nn as nn             # import PyTorch's neural network module\n",
    "import torch.nn.functional as F   # import PyTorch's functional interface to neural network operations\n",
    "import torchvision                # import PyTorch's computer vision library\n",
    "import numpy as np                # import NumPy library for numerical computing\n",
    "import os                         # import os module for interacting with the file system\n",
    "from torchvision import transforms  # import PyTorch's module for image transforms\n",
    "from tqdm import tqdm            # import tqdm module for progress bars\n",
    "import torchvision.transforms.functional as TF  # import PyTorch's module for functional image transforms\n",
    "from PIL import Image             # import Python Imaging Library for image manipulation"
   ]
  },
  {
   "cell_type": "code",
   "execution_count": 3,
   "id": "090b9129",
   "metadata": {},
   "outputs": [],
   "source": [
    "from torch import optim"
   ]
  },
  {
   "cell_type": "code",
   "execution_count": 4,
   "id": "e5a9085a",
   "metadata": {},
   "outputs": [],
   "source": [
    "import matplotlib.pyplot as plt"
   ]
  },
  {
   "cell_type": "code",
   "execution_count": 5,
   "id": "ed4e3c2c",
   "metadata": {},
   "outputs": [
    {
     "name": "stdout",
     "output_type": "stream",
     "text": [
      "1.12.1+cu113\n",
      "0.13.1+cu113\n",
      "1.24.3\n"
     ]
    }
   ],
   "source": [
    "print(torch.__version__)\n",
    "print(torchvision.__version__)\n",
    "print(np.__version__)"
   ]
  },
  {
   "cell_type": "markdown",
   "id": "38d80321",
   "metadata": {},
   "source": [
    "We would check if we have a GPU hardware available on our machine"
   ]
  },
  {
   "cell_type": "code",
   "execution_count": 6,
   "id": "843deb98",
   "metadata": {},
   "outputs": [
    {
     "data": {
      "text/plain": [
       "'cuda'"
      ]
     },
     "execution_count": 6,
     "metadata": {},
     "output_type": "execute_result"
    }
   ],
   "source": [
    "device = 'cuda' if torch.cuda.is_available() else 'cpu'\n",
    "device"
   ]
  },
  {
   "cell_type": "code",
   "execution_count": 7,
   "id": "680f9de2",
   "metadata": {},
   "outputs": [
    {
     "name": "stdout",
     "output_type": "stream",
     "text": [
      "Wed May 10 10:56:00 2023       \r\n",
      "+-----------------------------------------------------------------------------+\r\n",
      "| NVIDIA-SMI 470.161.03   Driver Version: 470.161.03   CUDA Version: 11.4     |\r\n",
      "|-------------------------------+----------------------+----------------------+\r\n",
      "| GPU  Name        Persistence-M| Bus-Id        Disp.A | Volatile Uncorr. ECC |\r\n",
      "| Fan  Temp  Perf  Pwr:Usage/Cap|         Memory-Usage | GPU-Util  Compute M. |\r\n",
      "|                               |                      |               MIG M. |\r\n",
      "|===============================+======================+======================|\r\n",
      "|   0  NVIDIA A40          On   | 00000000:2F:00.0 Off |                    0 |\r\n",
      "|  0%   45C    P0    59W / 300W |      2MiB / 45634MiB |      0%      Default |\r\n",
      "|                               |                      |                  N/A |\r\n",
      "+-------------------------------+----------------------+----------------------+\r\n",
      "                                                                               \r\n",
      "+-----------------------------------------------------------------------------+\r\n",
      "| Processes:                                                                  |\r\n",
      "|  GPU   GI   CI        PID   Type   Process name                  GPU Memory |\r\n",
      "|        ID   ID                                                   Usage      |\r\n",
      "|=============================================================================|\r\n",
      "|  No running processes found                                                 |\r\n",
      "+-----------------------------------------------------------------------------+\r\n"
     ]
    }
   ],
   "source": [
    "!nvidia-smi"
   ]
  },
  {
   "cell_type": "code",
   "execution_count": 8,
   "id": "9df7a3d2",
   "metadata": {},
   "outputs": [
    {
     "data": {
      "text/plain": [
       "tensor([ 0.2807, -0.6294, -1.5649, -0.9692], device='cuda:0')"
      ]
     },
     "execution_count": 8,
     "metadata": {},
     "output_type": "execute_result"
    }
   ],
   "source": [
    "x = torch.randn(4)\n",
    "x.cuda()"
   ]
  },
  {
   "cell_type": "markdown",
   "id": "e447f586",
   "metadata": {},
   "source": [
    "We would train a Convolution Neural Network on the CIFAR10 Dataset, which consists of 60000 32x32 px colour images in 10 classes."
   ]
  },
  {
   "cell_type": "code",
   "execution_count": 9,
   "id": "d62b110a",
   "metadata": {},
   "outputs": [],
   "source": [
    "classes = ('plane', 'car', 'bird', 'cat', 'deer', 'dog', 'frog', 'horse', 'ship', 'truck')"
   ]
  },
  {
   "cell_type": "markdown",
   "id": "29107534",
   "metadata": {},
   "source": [
    "The CIFAR10 dataset is inbuilt in PyTorch and can be called using"
   ]
  },
  {
   "cell_type": "code",
   "execution_count": 10,
   "id": "9dfbe2a2",
   "metadata": {},
   "outputs": [],
   "source": [
    "from torchvision.datasets import CIFAR10"
   ]
  },
  {
   "cell_type": "markdown",
   "id": "a68e8c83",
   "metadata": {},
   "source": [
    "We need to transform the images to tensor so that it can be passed through a neural network. "
   ]
  },
  {
   "cell_type": "code",
   "execution_count": 11,
   "id": "35c77dc0",
   "metadata": {},
   "outputs": [
    {
     "name": "stdout",
     "output_type": "stream",
     "text": [
      "Files already downloaded and verified\n",
      "Files already downloaded and verified\n"
     ]
    }
   ],
   "source": [
    "trainset = CIFAR10(root='./data', train=True,  download=True, transform=transforms.ToTensor())\n",
    "testset  = CIFAR10(root='./data', train=False, download=True, transform=transforms.ToTensor())"
   ]
  },
  {
   "cell_type": "markdown",
   "id": "fe9e706c",
   "metadata": {},
   "source": [
    "We utilize the PyTorch Data Loading which calls the dataset in batches."
   ]
  },
  {
   "cell_type": "code",
   "execution_count": 12,
   "id": "ea579afc",
   "metadata": {},
   "outputs": [],
   "source": [
    "from torch.utils.data import DataLoader"
   ]
  },
  {
   "cell_type": "markdown",
   "id": "cdee8305",
   "metadata": {},
   "source": [
    "`torch.utils.data.DataLoader` is a PyTorch class that provides an interface for loading data from a dataset. It is typically used for loading data in batches during the training or testing of a neural network. The DataLoader class takes several parameters:\n",
    "\n",
    "`dataset`: the dataset to load the data from. This can be any dataset that implements the torch.utils.data.Dataset class, such as torchvision.datasets.ImageFolder or a custom dataset.\n",
    "\n",
    "`batch_size`: the number of samples to load in each batch. This parameter determines the size of the mini-batches used during training. Larger batch sizes can result in faster training times, but may also require more memory.\n",
    "\n",
    "`shuffle`: a boolean indicating whether to shuffle the order of the samples in the dataset before loading them. This can be useful for reducing bias in the training process and improving model performance.\n",
    "\n",
    "`num_workers`: the number of worker threads to use for loading the data in parallel. This can speed up the data loading process, especially for larger datasets."
   ]
  },
  {
   "cell_type": "code",
   "execution_count": 13,
   "id": "ea11ccd6",
   "metadata": {},
   "outputs": [],
   "source": [
    "trainloader = DataLoader(trainset, batch_size=4, shuffle=True,  num_workers=2)\n",
    "testloader  = DataLoader(testset,  batch_size=4, shuffle=False, num_workers=2)"
   ]
  },
  {
   "cell_type": "markdown",
   "id": "88a3308e",
   "metadata": {},
   "source": [
    "### Visualizing the dataset"
   ]
  },
  {
   "cell_type": "markdown",
   "id": "e77ec309",
   "metadata": {},
   "source": [
    "We would visualize a few images from the dataset"
   ]
  },
  {
   "cell_type": "code",
   "execution_count": 14,
   "id": "d19c6444",
   "metadata": {},
   "outputs": [],
   "source": [
    "images, labels = next(iter(trainloader))"
   ]
  },
  {
   "cell_type": "code",
   "execution_count": 15,
   "id": "3664392f",
   "metadata": {},
   "outputs": [
    {
     "data": {
      "text/plain": [
       "torch.Size([4, 3, 32, 32])"
      ]
     },
     "execution_count": 15,
     "metadata": {},
     "output_type": "execute_result"
    }
   ],
   "source": [
    "images.shape"
   ]
  },
  {
   "cell_type": "code",
   "execution_count": 16,
   "id": "cf156849",
   "metadata": {},
   "outputs": [
    {
     "data": {
      "text/plain": [
       "tensor([7, 2, 3, 6])"
      ]
     },
     "execution_count": 16,
     "metadata": {},
     "output_type": "execute_result"
    }
   ],
   "source": [
    "labels"
   ]
  },
  {
   "cell_type": "code",
   "execution_count": 17,
   "id": "c7c05466",
   "metadata": {},
   "outputs": [],
   "source": [
    "new_im = Image.new('RGB', (images.size(0)*100, 100))\n",
    "\n",
    "x_offset = 0\n",
    "for i in range(images.size(0)):\n",
    "    img = TF.to_pil_image(images[i]).resize((100,100))\n",
    "    new_im.paste(img, (x_offset,0))\n",
    "    x_offset += 100"
   ]
  },
  {
   "cell_type": "code",
   "execution_count": 18,
   "id": "839e82bf",
   "metadata": {},
   "outputs": [
    {
     "data": {
      "image/png": "[encoded data removed]",
      "text/plain": [
       "<PIL.Image.Image image mode=RGB size=400x100>"
      ]
     },
     "metadata": {},
     "output_type": "display_data"
    },
    {
     "name": "stdout",
     "output_type": "stream",
     "text": [
      "['horse', 'bird', 'cat', 'frog']\n"
     ]
    }
   ],
   "source": [
    "display(new_im)\n",
    "print([classes[i] for i in labels])"
   ]
  },
  {
   "cell_type": "markdown",
   "id": "bc2fab91",
   "metadata": {},
   "source": [
    "### Defining our Neural Network"
   ]
  },
  {
   "cell_type": "markdown",
   "id": "8c8f6931",
   "metadata": {},
   "source": [
    "We would now design a Neural Network that has the following architecture."
   ]
  },
  {
   "cell_type": "code",
   "execution_count": 19,
   "id": "489220a4",
   "metadata": {
    "scrolled": true
   },
   "outputs": [
    {
     "data": {
      "image/png": "[encoded data removed]",
      "text/plain": [
       "<PIL.Image.Image image mode=RGBA size=400x103>"
      ]
     },
     "metadata": {},
     "output_type": "display_data"
    }
   ],
   "source": [
    "img = Image.open('architecture.png')\n",
    "w,h = img.size\n",
    "img = img.resize((400, int((h/w)*400)))\n",
    "display(img)"
   ]
  },
  {
   "cell_type": "markdown",
   "id": "1c575e89",
   "metadata": {},
   "source": [
    "This is a PyTorch neural network model class called `Classifier` that extends the `nn.Module` class. It is a simple CNN-based image classification model that takes a 3-channel input image, applies a sequence of convolutional and fully-connected layers to produce an output vector of length 10, representing the class probabilities.\n",
    "\n",
    "In detail, the `__init__` method defines the architecture of the neural network as a `nn.Sequential` object. The layers in this sequence are:\n",
    "\n",
    "- `nn.Conv2d(3, 512, 3, 1, 1)`: a 2D convolutional layer that takes 3 input channels, applies 512 output channels with a kernel size of 3 and stride of 1, and uses padding of 1 to maintain the same spatial size of the feature maps.\n",
    "- `nn.ReLU(True)`: a rectified linear unit (ReLU) activation function that applies element-wise non-linearity to the output of the previous convolutional layer.\n",
    "- `nn.MaxPool2d(2, 2)`: a 2D max-pooling layer that halves the spatial size of the feature maps.\n",
    "- `nn.Conv2d(512, 256, 3, 1, 1)`: another 2D convolutional layer that takes 512 input channels, applies 256 output channels with a kernel size of 3 and stride of 1, and uses padding of 1 to maintain the same spatial size of the feature maps.\n",
    "- `nn.ReLU(True)`: another ReLU activation function.\n",
    "- `nn.AdaptiveAvgPool2d(1)`: a global average pooling layer that averages the feature maps over their spatial dimensions to produce a 1x1 feature map for each channel.\n",
    "- `nn.Flatten()`: a flatten layer that flattens the 1x1 feature maps into a 1D tensor.\n",
    "- `nn.Linear(256, 128)`: a fully-connected linear layer that takes the flattened feature vector and applies a linear transformation with 256 input features and 128 output features.\n",
    "- `nn.ReLU(True)`: another ReLU activation function.\n",
    "- `nn.Linear(128, 10)`: a final fully-connected linear layer that takes the output of the previous layer and applies a linear transformation with 128 input features and 10 output features, corresponding to the number of output classes.\n",
    "\n",
    "The `forward` method takes an input tensor `x` and applies the network layers defined in `self.network` to produce an output tensor `y`. The output tensor represents the predicted class probabilities for the input image."
   ]
  },
  {
   "cell_type": "code",
   "execution_count": 20,
   "id": "fbbd7776",
   "metadata": {},
   "outputs": [],
   "source": [
    "class Classifier(nn.Module):\n",
    "    def __init__(self):\n",
    "        super().__init__()\n",
    "        self.network = nn.Sequential(nn.Conv2d(3, 512, 3, 1, 1),\n",
    "                                     nn.ReLU(True),\n",
    "                                     nn.MaxPool2d(2, 2),\n",
    "                                     nn.Conv2d(512, 256, 3, 1, 1),\n",
    "                                     nn.ReLU(True),\n",
    "                                     nn.AdaptiveAvgPool2d(1),\n",
    "                                     nn.Flatten(),\n",
    "                                     nn.Linear(256, 128),\n",
    "                                     nn.ReLU(True),\n",
    "                                     nn.Linear(128, 10))\n",
    "\n",
    "    def forward(self, x):\n",
    "        y = self.network(x)\n",
    "        return y"
   ]
  },
  {
   "cell_type": "markdown",
   "id": "98eb4f37",
   "metadata": {},
   "source": [
    "We create an instance of the `Classifier` class and assign it to the variable `model` using the default constructor. Then, we generate a random input tensor `x` with shape `(1, 3, 224, 224)` using the `torch.randn` function. This tensor represents a random RGB image with a resolution of `224x224` pixels.\n",
    "\n",
    "The input tensor `x` is then passed through the model by calling the `forward` method of the model object with `x` as the input argument. The output tensor `y` represents the predicted class probabilities for the input image, with shape `(1, 10)`.\n",
    "\n",
    "Finally, the we print the shape of the output tensor `y` using the `shape` attribute. The output shape `(1, 10)` indicates the class probabilities for the input image and has assigned a probability to each of the 10 output classes."
   ]
  },
  {
   "cell_type": "code",
   "execution_count": 21,
   "id": "dd111b6c",
   "metadata": {},
   "outputs": [
    {
     "name": "stdout",
     "output_type": "stream",
     "text": [
      "torch.Size([1, 10])\n"
     ]
    }
   ],
   "source": [
    "model = Classifier()\n",
    "x = torch.randn(1,3,224,224)\n",
    "y = model(x)\n",
    "print(y.shape)"
   ]
  },
  {
   "cell_type": "markdown",
   "id": "9d229194",
   "metadata": {},
   "source": [
    "If we have a GPU, we take our model to it."
   ]
  },
  {
   "cell_type": "code",
   "execution_count": 22,
   "id": "4961d450",
   "metadata": {},
   "outputs": [
    {
     "data": {
      "text/plain": [
       "Classifier(\n",
       "  (network): Sequential(\n",
       "    (0): Conv2d(3, 512, kernel_size=(3, 3), stride=(1, 1), padding=(1, 1))\n",
       "    (1): ReLU(inplace=True)\n",
       "    (2): MaxPool2d(kernel_size=2, stride=2, padding=0, dilation=1, ceil_mode=False)\n",
       "    (3): Conv2d(512, 256, kernel_size=(3, 3), stride=(1, 1), padding=(1, 1))\n",
       "    (4): ReLU(inplace=True)\n",
       "    (5): AdaptiveAvgPool2d(output_size=1)\n",
       "    (6): Flatten(start_dim=1, end_dim=-1)\n",
       "    (7): Linear(in_features=256, out_features=128, bias=True)\n",
       "    (8): ReLU(inplace=True)\n",
       "    (9): Linear(in_features=128, out_features=10, bias=True)\n",
       "  )\n",
       ")"
      ]
     },
     "execution_count": 22,
     "metadata": {},
     "output_type": "execute_result"
    }
   ],
   "source": [
    "model.to(device)"
   ]
  },
  {
   "cell_type": "markdown",
   "id": "082fafe7",
   "metadata": {},
   "source": [
    "We define two important components for training the neural network model:\n",
    "\n",
    "1. `nn.CrossEntropyLoss()`: This is a loss function that is commonly used for classification problems. It combines the softmax activation function and the negative log likelihood loss into a single function, making it easier to compute both the probabilities of the output classes and the corresponding loss. The `nn.CrossEntropyLoss` instance is created with the default parameters and assigned to the variable `criterion`.\n",
    "2. `optim.SGD(model.parameters(), lr=0.001, momentum=0.9)`: This is an optimization algorithm called stochastic gradient descent (SGD) with momentum. It is used to update the weights of the neural network during training. The `optim.SGD` function takes two arguments: the first argument is the parameters that need to be optimized, which in this case are the parameters of the `model` instance, accessed using the `model.parameters()` method. The second argument is a dictionary of hyperparameters that control the learning rate (`lr`) and momentum (`momentum`) of the optimizer. The learning rate controls how much the weights are updated in each step, while the momentum controls the degree to which the optimizer considers the previous updates while making the current update. The resulting optimizer object is assigned to the variable `optimizer`.\n",
    "\n",
    "Note that the `.to(device)` method call after `nn.CrossEntropyLoss()` is used to move the criterion to the device (CPU or GPU) specified by the `device` variable. Similarly, the `optimizer` is automatically moved to the device where the model is located, when `model.parameters()` is called."
   ]
  },
  {
   "cell_type": "code",
   "execution_count": 23,
   "id": "65308256",
   "metadata": {},
   "outputs": [],
   "source": [
    "criterion = nn.CrossEntropyLoss().to(device)\n",
    "optimizer = optim.SGD(model.parameters(), lr=0.001, momentum=0.9)"
   ]
  },
  {
   "cell_type": "code",
   "execution_count": 24,
   "id": "f6d45b62",
   "metadata": {},
   "outputs": [],
   "source": [
    "### Training our model"
   ]
  },
  {
   "cell_type": "code",
   "execution_count": null,
   "id": "c6ff0dd9",
   "metadata": {},
   "outputs": [],
   "source": []
  },
  {
   "cell_type": "code",
   "execution_count": 25,
   "id": "156de4a9",
   "metadata": {},
   "outputs": [
    {
     "name": "stdout",
     "output_type": "stream",
     "text": [
      "[1,  2000] loss: 2.242\n",
      "[1,  4000] loss: 2.114\n",
      "[1,  6000] loss: 2.045\n",
      "[1,  8000] loss: 1.985\n",
      "[1, 10000] loss: 1.922\n",
      "[1, 12000] loss: 1.892\n",
      "[2,  2000] loss: 1.842\n",
      "[2,  4000] loss: 1.802\n",
      "[2,  6000] loss: 1.751\n",
      "[2,  8000] loss: 1.740\n",
      "[2, 10000] loss: 1.716\n",
      "[2, 12000] loss: 1.703\n",
      "Finished Training\n"
     ]
    }
   ],
   "source": [
    "# Create an empty list to store the training loss for each epoch\n",
    "losses = []\n",
    "\n",
    "model.train()\n",
    "\n",
    "# Iterate over the specified number of epochs\n",
    "for epoch in range(2):\n",
    "    # Initialize a running loss counter for the current epoch\n",
    "    running_loss = 0.0\n",
    "    # Iterate over the training dataset one batch at a time\n",
    "    for i, data in enumerate(trainloader, 0):\n",
    "        # Load a batch of input images and their corresponding labels\n",
    "        inputs, labels = data\n",
    "        # Move the inputs and labels to the device specified by `device`\n",
    "        inputs = inputs.to(device)\n",
    "        labels = labels.to(device)\n",
    "        # Reset the optimizer's gradients to zero\n",
    "        optimizer.zero_grad()\n",
    "        # Use the model to predict the output probabilities for the input images\n",
    "        outputs = model(inputs)\n",
    "        # Calculate the loss between the predicted probabilities and the true labels\n",
    "        loss = criterion(outputs, labels)\n",
    "        # Backpropagate the loss to compute the gradients of the model parameters\n",
    "        loss.backward()\n",
    "        # Use the optimizer to update the model parameters based on the computed gradients\n",
    "        optimizer.step()\n",
    "        # Update the running loss counter for the current epoch\n",
    "        running_loss += loss.item()\n",
    "        # Print the current average loss every 2000 batches\n",
    "        if i % 2000 == 1999:\n",
    "            print(f'[{epoch + 1}, {i + 1:5d}] loss: {running_loss / 2000:.3f}')\n",
    "            # Append the current average loss to the list of losses for this epoch\n",
    "            losses.append(running_loss / 2000)\n",
    "            # Reset the running loss counter\n",
    "            running_loss = 0.0\n",
    "\n",
    "# Print a message indicating that training has finished\n",
    "print('Finished Training')"
   ]
  },
  {
   "cell_type": "code",
   "execution_count": 26,
   "id": "8632996e",
   "metadata": {},
   "outputs": [
    {
     "data": {
      "text/plain": [
       "[<matplotlib.lines.Line2D at 0x7fb192721fd0>]"
      ]
     },
     "execution_count": 26,
     "metadata": {},
     "output_type": "execute_result"
    },
    {
     "data": {
      "image/png": "[encoded data removed]",
      "text/plain": [
       "<Figure size 640x480 with 1 Axes>"
      ]
     },
     "metadata": {},
     "output_type": "display_data"
    }
   ],
   "source": [
    "plt.plot(losses)"
   ]
  },
  {
   "cell_type": "markdown",
   "id": "1d1249ab",
   "metadata": {},
   "source": [
    "### Testing our model"
   ]
  },
  {
   "cell_type": "code",
   "execution_count": 27,
   "id": "7b1e4181",
   "metadata": {},
   "outputs": [],
   "source": [
    "# Create dictionaries to store the number of correctly predicted and total predictions for each class in the test dataset\n",
    "correct_pred = {classname: 0 for classname in classes}\n",
    "total_pred = {classname: 0 for classname in classes}\n",
    "\n",
    "# Initialize counters for the overall number of correct predictions and the total number of predictions made\n",
    "correct = 0\n",
    "total = 0\n",
    "\n",
    "model.eval()\n",
    "\n",
    "# Disable gradient computation to save memory and speed up computation during evaluation\n",
    "with torch.no_grad():\n",
    "    # Iterate over the test dataset one batch at a time\n",
    "    for data in testloader:\n",
    "        # Load a batch of input images and their corresponding labels\n",
    "        inputs, labels = data\n",
    "        # Move the inputs and labels to the device specified by `device`\n",
    "        inputs = inputs.to(device)\n",
    "        labels = labels.to(device)\n",
    "        # Use the model to predict the output probabilities for the input images\n",
    "        outputs = model(inputs)\n",
    "        # Find the index of the class with the highest probability in each output vector\n",
    "        _, predictions = torch.max(outputs, 1)\n",
    "        # Increment the counters for the overall number of correct predictions and the total number of predictions made\n",
    "        total += labels.size(0)\n",
    "        correct += (predictions == labels).sum().item()\n",
    "        # Iterate over each label-prediction pair in the current batch\n",
    "        for label, prediction in zip(labels, predictions):\n",
    "            # Increment the number of correct predictions for the corresponding class in `correct_pred` if the label and prediction match\n",
    "            if label == prediction:\n",
    "                correct_pred[classes[label]] += 1\n",
    "            # Increment the total number of predictions for the corresponding class in `total_pred` regardless of whether the prediction is correct or not\n",
    "            total_pred[classes[label]] += 1"
   ]
  },
  {
   "cell_type": "code",
   "execution_count": 28,
   "id": "619ce4e4",
   "metadata": {},
   "outputs": [
    {
     "name": "stdout",
     "output_type": "stream",
     "text": [
      "Accuracy for class: plane is 36.1 %\n",
      "Accuracy for class: car   is 35.3 %\n",
      "Accuracy for class: bird  is 14.2 %\n",
      "Accuracy for class: cat   is 19.6 %\n",
      "Accuracy for class: deer  is 47.3 %\n",
      "Accuracy for class: dog   is 37.0 %\n",
      "Accuracy for class: frog  is 36.9 %\n",
      "Accuracy for class: horse is 41.5 %\n",
      "Accuracy for class: ship  is 68.6 %\n",
      "Accuracy for class: truck is 38.8 %\n",
      "-----------------------------------\n",
      "Accuracy for class: total is 37 %\n"
     ]
    }
   ],
   "source": [
    "for classname, correct_count in correct_pred.items():\n",
    "    accuracy = 100 * float(correct_count) / total_pred[classname]\n",
    "    print(f'Accuracy for class: {classname:5s} is {accuracy:.1f} %')\n",
    "print(\"-----------------------------------\")\n",
    "print(f'Accuracy for class: total is {100 * correct // total} %')"
   ]
  },
  {
   "cell_type": "markdown",
   "id": "5f0ddace",
   "metadata": {},
   "source": [
    "### Finetuning ResNet model"
   ]
  },
  {
   "cell_type": "markdown",
   "id": "ec054114",
   "metadata": {},
   "source": [
    "We would load a pre-trained ResNet18 model and fine-tunes it on our 10-class classification task."
   ]
  },
  {
   "cell_type": "markdown",
   "id": "b3095458",
   "metadata": {},
   "source": [
    "Import the pre-trained ResNet18 model architecture from the `torchvision.models` module."
   ]
  },
  {
   "cell_type": "code",
   "execution_count": 29,
   "id": "5016ed51",
   "metadata": {},
   "outputs": [],
   "source": [
    "from torchvision.models import resnet18"
   ]
  },
  {
   "cell_type": "markdown",
   "id": "ec6e8860",
   "metadata": {},
   "source": [
    "Instantiate the ResNet18 model and load the pre-trained weights using the `pretrained=True` argument. This initializes the model with weights learned on the ImageNet dataset."
   ]
  },
  {
   "cell_type": "code",
   "execution_count": 30,
   "id": "cb422457",
   "metadata": {},
   "outputs": [
    {
     "name": "stderr",
     "output_type": "stream",
     "text": [
      "/h/aditya/miniconda3/envs/pytorch110/lib/python3.9/site-packages/torchvision/models/_utils.py:208: UserWarning: The parameter 'pretrained' is deprecated since 0.13 and will be removed in 0.15, please use 'weights' instead.\n",
      "  warnings.warn(\n",
      "/h/aditya/miniconda3/envs/pytorch110/lib/python3.9/site-packages/torchvision/models/_utils.py:223: UserWarning: Arguments other than a weight enum or `None` for 'weights' are deprecated since 0.13 and will be removed in 0.15. The current behavior is equivalent to passing `weights=ResNet18_Weights.IMAGENET1K_V1`. You can also use `weights=ResNet18_Weights.DEFAULT` to get the most up-to-date weights.\n",
      "  warnings.warn(msg)\n"
     ]
    }
   ],
   "source": [
    "model = resnet18(pretrained=True)"
   ]
  },
  {
   "cell_type": "markdown",
   "id": "9e656c65",
   "metadata": {},
   "source": [
    "The shape of the output tensor is (1, 1000), representing the 1000-class output of the pre-trained model."
   ]
  },
  {
   "cell_type": "code",
   "execution_count": 31,
   "id": "43a746da",
   "metadata": {},
   "outputs": [
    {
     "name": "stdout",
     "output_type": "stream",
     "text": [
      "torch.Size([1, 1000])\n"
     ]
    }
   ],
   "source": [
    "x = torch.randn(1,3,224,224)\n",
    "y = model(x)\n",
    "print(y.shape)"
   ]
  },
  {
   "cell_type": "markdown",
   "id": "7ba96c13",
   "metadata": {},
   "source": [
    "Replace the fully connected layer (model.fc) of the ResNet18 model with a new linear layer (nn.Linear) that has 10 output features, since we want to use the model for a 10-class classification task."
   ]
  },
  {
   "cell_type": "code",
   "execution_count": 32,
   "id": "dae95961",
   "metadata": {},
   "outputs": [],
   "source": [
    "model.fc = nn.Linear(model.fc.in_features, 10)"
   ]
  },
  {
   "cell_type": "markdown",
   "id": "04e9e40b",
   "metadata": {},
   "source": [
    "The shape of the output tensor is now (1, 10), representing the 10-class output of the fine-tuned model."
   ]
  },
  {
   "cell_type": "code",
   "execution_count": 33,
   "id": "078a4426",
   "metadata": {},
   "outputs": [
    {
     "name": "stdout",
     "output_type": "stream",
     "text": [
      "torch.Size([1, 10])\n"
     ]
    }
   ],
   "source": [
    "x = torch.randn(1,3,224,224)\n",
    "y = model(x)\n",
    "print(y.shape)"
   ]
  },
  {
   "cell_type": "code",
   "execution_count": 34,
   "id": "37d6c50e",
   "metadata": {},
   "outputs": [
    {
     "data": {
      "text/plain": [
       "ResNet(\n",
       "  (conv1): Conv2d(3, 64, kernel_size=(7, 7), stride=(2, 2), padding=(3, 3), bias=False)\n",
       "  (bn1): BatchNorm2d(64, eps=1e-05, momentum=0.1, affine=True, track_running_stats=True)\n",
       "  (relu): ReLU(inplace=True)\n",
       "  (maxpool): MaxPool2d(kernel_size=3, stride=2, padding=1, dilation=1, ceil_mode=False)\n",
       "  (layer1): Sequential(\n",
       "    (0): BasicBlock(\n",
       "      (conv1): Conv2d(64, 64, kernel_size=(3, 3), stride=(1, 1), padding=(1, 1), bias=False)\n",
       "      (bn1): BatchNorm2d(64, eps=1e-05, momentum=0.1, affine=True, track_running_stats=True)\n",
       "      (relu): ReLU(inplace=True)\n",
       "      (conv2): Conv2d(64, 64, kernel_size=(3, 3), stride=(1, 1), padding=(1, 1), bias=False)\n",
       "      (bn2): BatchNorm2d(64, eps=1e-05, momentum=0.1, affine=True, track_running_stats=True)\n",
       "    )\n",
       "    (1): BasicBlock(\n",
       "      (conv1): Conv2d(64, 64, kernel_size=(3, 3), stride=(1, 1), padding=(1, 1), bias=False)\n",
       "      (bn1): BatchNorm2d(64, eps=1e-05, momentum=0.1, affine=True, track_running_stats=True)\n",
       "      (relu): ReLU(inplace=True)\n",
       "      (conv2): Conv2d(64, 64, kernel_size=(3, 3), stride=(1, 1), padding=(1, 1), bias=False)\n",
       "      (bn2): BatchNorm2d(64, eps=1e-05, momentum=0.1, affine=True, track_running_stats=True)\n",
       "    )\n",
       "  )\n",
       "  (layer2): Sequential(\n",
       "    (0): BasicBlock(\n",
       "      (conv1): Conv2d(64, 128, kernel_size=(3, 3), stride=(2, 2), padding=(1, 1), bias=False)\n",
       "      (bn1): BatchNorm2d(128, eps=1e-05, momentum=0.1, affine=True, track_running_stats=True)\n",
       "      (relu): ReLU(inplace=True)\n",
       "      (conv2): Conv2d(128, 128, kernel_size=(3, 3), stride=(1, 1), padding=(1, 1), bias=False)\n",
       "      (bn2): BatchNorm2d(128, eps=1e-05, momentum=0.1, affine=True, track_running_stats=True)\n",
       "      (downsample): Sequential(\n",
       "        (0): Conv2d(64, 128, kernel_size=(1, 1), stride=(2, 2), bias=False)\n",
       "        (1): BatchNorm2d(128, eps=1e-05, momentum=0.1, affine=True, track_running_stats=True)\n",
       "      )\n",
       "    )\n",
       "    (1): BasicBlock(\n",
       "      (conv1): Conv2d(128, 128, kernel_size=(3, 3), stride=(1, 1), padding=(1, 1), bias=False)\n",
       "      (bn1): BatchNorm2d(128, eps=1e-05, momentum=0.1, affine=True, track_running_stats=True)\n",
       "      (relu): ReLU(inplace=True)\n",
       "      (conv2): Conv2d(128, 128, kernel_size=(3, 3), stride=(1, 1), padding=(1, 1), bias=False)\n",
       "      (bn2): BatchNorm2d(128, eps=1e-05, momentum=0.1, affine=True, track_running_stats=True)\n",
       "    )\n",
       "  )\n",
       "  (layer3): Sequential(\n",
       "    (0): BasicBlock(\n",
       "      (conv1): Conv2d(128, 256, kernel_size=(3, 3), stride=(2, 2), padding=(1, 1), bias=False)\n",
       "      (bn1): BatchNorm2d(256, eps=1e-05, momentum=0.1, affine=True, track_running_stats=True)\n",
       "      (relu): ReLU(inplace=True)\n",
       "      (conv2): Conv2d(256, 256, kernel_size=(3, 3), stride=(1, 1), padding=(1, 1), bias=False)\n",
       "      (bn2): BatchNorm2d(256, eps=1e-05, momentum=0.1, affine=True, track_running_stats=True)\n",
       "      (downsample): Sequential(\n",
       "        (0): Conv2d(128, 256, kernel_size=(1, 1), stride=(2, 2), bias=False)\n",
       "        (1): BatchNorm2d(256, eps=1e-05, momentum=0.1, affine=True, track_running_stats=True)\n",
       "      )\n",
       "    )\n",
       "    (1): BasicBlock(\n",
       "      (conv1): Conv2d(256, 256, kernel_size=(3, 3), stride=(1, 1), padding=(1, 1), bias=False)\n",
       "      (bn1): BatchNorm2d(256, eps=1e-05, momentum=0.1, affine=True, track_running_stats=True)\n",
       "      (relu): ReLU(inplace=True)\n",
       "      (conv2): Conv2d(256, 256, kernel_size=(3, 3), stride=(1, 1), padding=(1, 1), bias=False)\n",
       "      (bn2): BatchNorm2d(256, eps=1e-05, momentum=0.1, affine=True, track_running_stats=True)\n",
       "    )\n",
       "  )\n",
       "  (layer4): Sequential(\n",
       "    (0): BasicBlock(\n",
       "      (conv1): Conv2d(256, 512, kernel_size=(3, 3), stride=(2, 2), padding=(1, 1), bias=False)\n",
       "      (bn1): BatchNorm2d(512, eps=1e-05, momentum=0.1, affine=True, track_running_stats=True)\n",
       "      (relu): ReLU(inplace=True)\n",
       "      (conv2): Conv2d(512, 512, kernel_size=(3, 3), stride=(1, 1), padding=(1, 1), bias=False)\n",
       "      (bn2): BatchNorm2d(512, eps=1e-05, momentum=0.1, affine=True, track_running_stats=True)\n",
       "      (downsample): Sequential(\n",
       "        (0): Conv2d(256, 512, kernel_size=(1, 1), stride=(2, 2), bias=False)\n",
       "        (1): BatchNorm2d(512, eps=1e-05, momentum=0.1, affine=True, track_running_stats=True)\n",
       "      )\n",
       "    )\n",
       "    (1): BasicBlock(\n",
       "      (conv1): Conv2d(512, 512, kernel_size=(3, 3), stride=(1, 1), padding=(1, 1), bias=False)\n",
       "      (bn1): BatchNorm2d(512, eps=1e-05, momentum=0.1, affine=True, track_running_stats=True)\n",
       "      (relu): ReLU(inplace=True)\n",
       "      (conv2): Conv2d(512, 512, kernel_size=(3, 3), stride=(1, 1), padding=(1, 1), bias=False)\n",
       "      (bn2): BatchNorm2d(512, eps=1e-05, momentum=0.1, affine=True, track_running_stats=True)\n",
       "    )\n",
       "  )\n",
       "  (avgpool): AdaptiveAvgPool2d(output_size=(1, 1))\n",
       "  (fc): Linear(in_features=512, out_features=10, bias=True)\n",
       ")"
      ]
     },
     "execution_count": 34,
     "metadata": {},
     "output_type": "execute_result"
    }
   ],
   "source": [
    "model.to(device)"
   ]
  },
  {
   "cell_type": "markdown",
   "id": "625a5f1c",
   "metadata": {},
   "source": [
    "We define a data transformation pipeline using the `transforms.Compose()` method from the `torchvision.transforms` module. This pipeline consists of two transformations applied sequentially to an input image:\n",
    "\n",
    "1. `transforms.ToTensor()`: This converts the input image, which is a PIL image or numpy ndarray, into a PyTorch tensor. The image is first converted to a tensor of shape (C x H x W), where C is the number of channels (3 for color images) and H and W are the height and width of the image, respectively. The pixel values are also scaled from the range [0, 255] to the range [0, 1].\n",
    "2. `transforms.Normalize()`: This normalizes the tensor image with the specified mean and standard deviation. The normalization formula used is `(input - mean) / std`. The mean and standard deviation values used in this transformation are `[0.485, 0.456, 0.406]` and `[0.229, 0.224, 0.225]`, respectively. These values are the mean and standard deviation of the RGB channels across a large dataset of images (specifically, the ImageNet dataset). Normalization is a common preprocessing step for deep learning models because it helps the model converge faster and generalize better."
   ]
  },
  {
   "cell_type": "code",
   "execution_count": 35,
   "id": "5e0fe7ab",
   "metadata": {},
   "outputs": [
    {
     "name": "stdout",
     "output_type": "stream",
     "text": [
      "Files already downloaded and verified\n",
      "Files already downloaded and verified\n"
     ]
    }
   ],
   "source": [
    "transform = transforms.Compose([transforms.ToTensor(), transforms.Normalize(mean=[0.485, 0.456, 0.406], std=[0.229, 0.224, 0.225])])\n",
    "trainset = CIFAR10(root='./data', train=True,  download=True, transform=transform)\n",
    "testset  = CIFAR10(root='./data', train=False, download=True, transform=transform)"
   ]
  },
  {
   "cell_type": "code",
   "execution_count": 36,
   "id": "54bb78e8",
   "metadata": {},
   "outputs": [],
   "source": [
    "trainloader = DataLoader(trainset, batch_size=256, shuffle=True,  num_workers=8)\n",
    "testloader  = DataLoader(testset,  batch_size=4, shuffle=False, num_workers=2)"
   ]
  },
  {
   "cell_type": "code",
   "execution_count": 37,
   "id": "1b891c44",
   "metadata": {},
   "outputs": [],
   "source": [
    "criterion = nn.CrossEntropyLoss().to(device)\n",
    "optimizer = optim.Adam(model.parameters(), lr=0.001)"
   ]
  },
  {
   "cell_type": "code",
   "execution_count": 38,
   "id": "0b573d97",
   "metadata": {},
   "outputs": [
    {
     "name": "stdout",
     "output_type": "stream",
     "text": [
      "[1,    20] loss: 1.529\n",
      "[1,    40] loss: 1.026\n",
      "[1,    60] loss: 0.876\n",
      "[1,    80] loss: 0.826\n",
      "[1,   100] loss: 0.767\n",
      "[1,   120] loss: 0.744\n",
      "[1,   140] loss: 0.682\n",
      "[1,   160] loss: 0.721\n",
      "[1,   180] loss: 0.657\n",
      "[2,    20] loss: 0.538\n",
      "[2,    40] loss: 0.522\n",
      "[2,    60] loss: 0.532\n",
      "[2,    80] loss: 0.514\n",
      "[2,   100] loss: 0.522\n",
      "[2,   120] loss: 0.537\n",
      "[2,   140] loss: 0.504\n",
      "[2,   160] loss: 0.528\n",
      "[2,   180] loss: 0.534\n",
      "[3,    20] loss: 0.360\n",
      "[3,    40] loss: 0.385\n",
      "[3,    60] loss: 0.368\n",
      "[3,    80] loss: 0.395\n",
      "[3,   100] loss: 0.379\n",
      "[3,   120] loss: 0.422\n",
      "[3,   140] loss: 0.427\n",
      "[3,   160] loss: 0.407\n",
      "[3,   180] loss: 0.399\n",
      "[4,    20] loss: 0.299\n",
      "[4,    40] loss: 0.292\n",
      "[4,    60] loss: 0.288\n",
      "[4,    80] loss: 0.286\n",
      "[4,   100] loss: 0.315\n",
      "[4,   120] loss: 0.287\n",
      "[4,   140] loss: 0.304\n",
      "[4,   160] loss: 0.329\n",
      "[4,   180] loss: 0.314\n",
      "Finished Training\n"
     ]
    }
   ],
   "source": [
    "model.train()\n",
    "for epoch in range(4):\n",
    "    running_loss = 0.0\n",
    "    for i, data in enumerate(trainloader, 0):\n",
    "        inputs, labels = data\n",
    "        inputs = inputs.to(device)\n",
    "        labels = labels.to(device)\n",
    "\n",
    "        optimizer.zero_grad()\n",
    "\n",
    "        outputs = model(inputs)\n",
    "        loss = criterion(outputs, labels)\n",
    "        loss.backward()\n",
    "        optimizer.step()\n",
    "\n",
    "        # print statistics\n",
    "        running_loss += loss.item()\n",
    "        if i % 20 == 19:\n",
    "            print(f'[{epoch + 1}, {i + 1:5d}] loss: {running_loss / 20:.3f}')\n",
    "            running_loss = 0.0\n",
    "\n",
    "print('Finished Training')"
   ]
  },
  {
   "cell_type": "code",
   "execution_count": 39,
   "id": "2b0dccaf",
   "metadata": {},
   "outputs": [],
   "source": [
    "correct_pred = {classname: 0 for classname in classes}\n",
    "total_pred = {classname: 0 for classname in classes}\n",
    "correct = 0\n",
    "total = 0\n",
    "\n",
    "model.eval()\n",
    "with torch.no_grad():\n",
    "    for data in testloader:\n",
    "        inputs, labels = data\n",
    "        inputs = inputs.to(device)\n",
    "        labels = labels.to(device)\n",
    "        outputs = model(inputs)\n",
    "        _, predictions = torch.max(outputs, 1)\n",
    "        total += labels.size(0)\n",
    "        correct += (predictions == labels).sum().item()\n",
    "        for label, prediction in zip(labels, predictions):\n",
    "            if label == prediction:\n",
    "                correct_pred[classes[label]] += 1\n",
    "            total_pred[classes[label]] += 1"
   ]
  },
  {
   "cell_type": "code",
   "execution_count": 40,
   "id": "6be28ded",
   "metadata": {},
   "outputs": [
    {
     "name": "stdout",
     "output_type": "stream",
     "text": [
      "Accuracy for class: plane is 80.5 %\n",
      "Accuracy for class: car   is 82.2 %\n",
      "Accuracy for class: bird  is 81.1 %\n",
      "Accuracy for class: cat   is 76.5 %\n",
      "Accuracy for class: deer  is 73.8 %\n",
      "Accuracy for class: dog   is 60.7 %\n",
      "Accuracy for class: frog  is 87.3 %\n",
      "Accuracy for class: horse is 80.5 %\n",
      "Accuracy for class: ship  is 95.3 %\n",
      "Accuracy for class: truck is 88.9 %\n",
      "-----------------------------------\n",
      "Accuracy for class: total is 80 %\n"
     ]
    }
   ],
   "source": [
    "for classname, correct_count in correct_pred.items():\n",
    "    accuracy = 100 * float(correct_count) / total_pred[classname]\n",
    "    print(f'Accuracy for class: {classname:5s} is {accuracy:.1f} %')\n",
    "print(\"-----------------------------------\")\n",
    "print(f'Accuracy for class: total is {100 * correct // total} %')"
   ]
  },
  {
   "cell_type": "markdown",
   "id": "fc906e13",
   "metadata": {},
   "source": [
    "### Evaluating the performance on own images"
   ]
  },
  {
   "cell_type": "markdown",
   "id": "4cf9978c",
   "metadata": {},
   "source": [
    "We can also check the model performance on our own images. We download a plane image."
   ]
  },
  {
   "cell_type": "code",
   "execution_count": 41,
   "id": "60bf6cbe",
   "metadata": {},
   "outputs": [],
   "source": [
    "# !wget https://e3.365dm.com/21/07/2048x1152/skynews-boeing-737-plane_5435020.jpg"
   ]
  },
  {
   "cell_type": "markdown",
   "id": "b4021791",
   "metadata": {},
   "source": [
    "We load the image and resize it to 32x32 which was used by our model during training."
   ]
  },
  {
   "cell_type": "code",
   "execution_count": 42,
   "id": "5e47961a",
   "metadata": {},
   "outputs": [],
   "source": [
    "img = Image.open('skynews-boeing-737-plane_5435020.jpg')\n",
    "im1 = img.resize((32,32))\n",
    "im2 = img.resize((100,100))"
   ]
  },
  {
   "cell_type": "code",
   "execution_count": 43,
   "id": "08491942",
   "metadata": {},
   "outputs": [
    {
     "data": {
      "image/png": "[encoded data removed]",
      "text/plain": [
       "<PIL.Image.Image image mode=RGB size=100x100>"
      ]
     },
     "metadata": {},
     "output_type": "display_data"
    }
   ],
   "source": [
    "display(im2)"
   ]
  },
  {
   "cell_type": "markdown",
   "id": "247b3b9f",
   "metadata": {},
   "source": [
    "Applying the transformations defined in the `transform` variable to the resized image `im1` and assigning the result to `im1T`."
   ]
  },
  {
   "cell_type": "code",
   "execution_count": 44,
   "id": "fedfa6c5",
   "metadata": {},
   "outputs": [],
   "source": [
    "im1T = transform(im1)"
   ]
  },
  {
   "cell_type": "code",
   "execution_count": 45,
   "id": "ea61d064",
   "metadata": {},
   "outputs": [
    {
     "data": {
      "text/plain": [
       "torch.Size([3, 32, 32])"
      ]
     },
     "execution_count": 45,
     "metadata": {},
     "output_type": "execute_result"
    }
   ],
   "source": [
    "im1T.shape"
   ]
  },
  {
   "cell_type": "markdown",
   "id": "d37f0cce",
   "metadata": {},
   "source": [
    "Adding a batch dimension to the image tensor `im1T` using the `unsqueeze()` method."
   ]
  },
  {
   "cell_type": "code",
   "execution_count": 46,
   "id": "8082b4c8",
   "metadata": {},
   "outputs": [],
   "source": [
    "im1T = im1T.unsqueeze(0)"
   ]
  },
  {
   "cell_type": "code",
   "execution_count": 47,
   "id": "81acc632",
   "metadata": {},
   "outputs": [
    {
     "data": {
      "text/plain": [
       "torch.Size([1, 3, 32, 32])"
      ]
     },
     "execution_count": 47,
     "metadata": {},
     "output_type": "execute_result"
    }
   ],
   "source": [
    "im1T.shape"
   ]
  },
  {
   "cell_type": "code",
   "execution_count": 48,
   "id": "e6f7fee5",
   "metadata": {},
   "outputs": [],
   "source": [
    "model.eval()\n",
    "with torch.no_grad():    # deactivate autograd engine to reduce memory usage and speed up computations\n",
    "    im1T = im1T.to(device)    # send the input tensor to the device (CPU or GPU)\n",
    "    outputs = model(im1T)    # feed the input tensor to the model to get the output tensor"
   ]
  },
  {
   "cell_type": "code",
   "execution_count": 49,
   "id": "2b350567",
   "metadata": {},
   "outputs": [],
   "source": [
    "idx = torch.max(outputs, 1)[1].item()    # get the index of the class with maximum probability from the output tensor"
   ]
  },
  {
   "cell_type": "code",
   "execution_count": 50,
   "id": "4a3683cb",
   "metadata": {},
   "outputs": [
    {
     "name": "stdout",
     "output_type": "stream",
     "text": [
      "plane\n"
     ]
    }
   ],
   "source": [
    "print(classes[idx])    # print the name of the predicted class corresponding to the index"
   ]
  },
  {
   "cell_type": "code",
   "execution_count": null,
   "id": "95e3ebde",
   "metadata": {},
   "outputs": [],
   "source": []
  }
 ],
 "metadata": {
  "kernelspec": {
   "display_name": "Python 3 (ipykernel)",
   "language": "python",
   "name": "python3"
  },
  "language_info": {
   "codemirror_mode": {
    "name": "ipython",
    "version": 3
   },
   "file_extension": ".py",
   "mimetype": "text/x-python",
   "name": "python",
   "nbconvert_exporter": "python",
   "pygments_lexer": "ipython3",
   "version": "3.9.16"
  }
 },
 "nbformat": 4,
 "nbformat_minor": 5
}
